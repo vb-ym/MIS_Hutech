{
 "cells": [
  {
   "cell_type": "markdown",
   "metadata": {
    "id": "tw9URxpylcIK"
   },
   "source": [
    "## Giới thiệu\n",
    "Trong bài thực hành này, chúng ta sẽ thực hành kỹ năng đọc, chuyển đổi kiểu dữ liệu của `DataFrame` (kèm một số kỹ năng khác)."
   ]
  },
  {
   "cell_type": "markdown",
   "metadata": {
    "id": "v1THXEVkl99E"
   },
   "source": [
    "## Dữ liệu\n",
    "Dữ liệu của bài thực hành này được tổng hợp từ [trang wiki](https://leagueoflegends.fandom.com/wiki/League_of_Legends_Wiki) của trò chơi Liên minh Huyền thoại. (*cập nhật ngày 23-12-2020*)\n",
    "\n",
    "Dữ liệu này được lưu tại đường dẫn https://raw.githubusercontent.com/Levytan/mis_hutech/master/data/lol_champions.csv\n",
    "\n",
    "Dữ liệu bao gồm các cột:\n",
    "* `champion`: tên của tướng.\n",
    "* `title`: danh hiệu tướng.\n",
    "* `primary`: phân lớp chính.\n",
    "* `secondary`: phân lớp phụ.\n",
    "* `release_date`: ngày ra mắt.\n",
    "* `base_attack`: tấn công cơ bản.\n",
    "* `base_health`: máu cơ bản."
   ]
  },
  {
   "cell_type": "markdown",
   "metadata": {
    "id": "TYjZXrd1m_UM"
   },
   "source": [
    "## Phần 1: Đọc và chuyển đổi dữ liệu\n",
    "Phần này ôn lại cách dùng của:\n",
    "* Hàm `pd.read_csv()`, `pd.to_datetime()` và `pd.to_numeric()`.\n",
    "* Accessor `.str`.\n",
    "* Phương thức `.assign()` của `DataFrame`.\n",
    "* Cùng một số hàm và phương thức khác."
   ]
  },
  {
   "cell_type": "code",
   "execution_count": null,
   "metadata": {
    "id": "H37SSHgin1qT"
   },
   "outputs": [],
   "source": [
    "# import tại đây"
   ]
  },
  {
   "cell_type": "markdown",
   "metadata": {
    "id": "QoY6X8lPnEkS"
   },
   "source": [
    "**Câu 1**: Mở đường dẫn dữ liệu ở trên và xem xét cẩn thận. Sau đó, dùng `pd.read_csv()` với các tham số phù hợp để đọc dữ liệu. Lưu dữ liệu đọc được với tên `data`.\n",
    "\n",
    "*Gợi ý*\n",
    "- Xem documentation của pd.read_csv() tại https://pandas.pydata.org/docs/reference/api/pandas.read_csv.html\n",
    "- Tham số filepath_or_buffer chính là đường dẫn đến file csv.\n",
    "- Tuy nhiên file csv này có lỗi. Để bỏ qua lỗi, tham khảo các tham số có chứa từ \"error\" trong documentation.\n",
    "- Theo mặc định, pd.read_csv() cho rằng các cột của dữ liệu được phân chia bằng dấu \",\". Tên gọi của ký hiệu phân chia cột trong tiếng Anh là delimiter."
   ]
  },
  {
   "cell_type": "code",
   "execution_count": null,
   "metadata": {
    "id": "GuFimi73lN51"
   },
   "outputs": [],
   "source": []
  },
  {
   "cell_type": "markdown",
   "metadata": {
    "id": "nyTVbV47oB1m"
   },
   "source": [
    "**Câu 2**: In ra kiểu dữ liệu của các cột trong `data`.\n"
   ]
  },
  {
   "cell_type": "code",
   "execution_count": null,
   "metadata": {
    "id": "Q_kXA8ymoKE4"
   },
   "outputs": [],
   "source": []
  },
  {
   "cell_type": "markdown",
   "metadata": {
    "id": "mr5slj6JoKwZ"
   },
   "source": [
    "**Câu 3**: Thực hiện chuyển đổi kiểu dữ liệu (nếu cần) cho các cột `release_date`, `base_attack` và `base_health` về kiểu dữ liệu phù hợp."
   ]
  },
  {
   "cell_type": "code",
   "execution_count": null,
   "metadata": {
    "id": "XCTUuXMVodSI"
   },
   "outputs": [],
   "source": []
  },
  {
   "cell_type": "markdown",
   "metadata": {
    "id": "gjjAI21sohwq"
   },
   "source": [
    "**Câu 4**: In lại kiểu dữ liệu của các cột trong `data` để kiểm tra việc chuyển dữ liệu."
   ]
  },
  {
   "cell_type": "code",
   "execution_count": null,
   "metadata": {
    "id": "VmR6JExeozdv"
   },
   "outputs": [],
   "source": []
  },
  {
   "cell_type": "markdown",
   "metadata": {
    "id": "ZLCm8fxQp5Zi"
   },
   "source": [
    "## Phần 2: Một số thao tác với `DataFrame`.\n",
    "Phần này ôn lại các thao tác cơ bản trong `DataFrame`."
   ]
  },
  {
   "cell_type": "markdown",
   "metadata": {
    "id": "7yyW_Ruyqh2p"
   },
   "source": [
    "**Câu 5**: In ra số lượng tướng có trong `data`."
   ]
  },
  {
   "cell_type": "code",
   "execution_count": null,
   "metadata": {
    "id": "51WeydMiqFSy"
   },
   "outputs": [],
   "source": []
  },
  {
   "cell_type": "markdown",
   "metadata": {
    "id": "XW7Zw9Bhq3ZA"
   },
   "source": [
    "**Câu 6**: In ra các tướng ra mắt trong năm 2020. \n",
    "\n",
    "*Gợi ý*: có thể dùng accessor `.dt` và thuộc tính `.year` của kiểu thời gian."
   ]
  },
  {
   "cell_type": "code",
   "execution_count": null,
   "metadata": {
    "id": "JioRCrgorIJo"
   },
   "outputs": [],
   "source": []
  },
  {
   "cell_type": "markdown",
   "metadata": {
    "id": "sQni6HPRrfff"
   },
   "source": [
    "**Câu 7**: In ra ngày ra mắt của các tướng có phân lớp chính là `'Marksman'`."
   ]
  },
  {
   "cell_type": "code",
   "execution_count": null,
   "metadata": {
    "id": "eRuDnmRjrxX_"
   },
   "outputs": [],
   "source": []
  },
  {
   "cell_type": "markdown",
   "metadata": {
    "id": "kg9juPGSr0hf"
   },
   "source": [
    "**Câu 8**: In ra những tướng có tên bắt đầu bằng chữ `'N'`.\n",
    "\n",
    "*Gợi ý*: dùng `.str.startswith()`.\n"
   ]
  },
  {
   "cell_type": "code",
   "execution_count": null,
   "metadata": {
    "id": "_LqRLqohsow0"
   },
   "outputs": [],
   "source": []
  },
  {
   "cell_type": "markdown",
   "metadata": {
    "id": "wBtT7n74syVv"
   },
   "source": [
    "**Câu 9**: In ra những tướng có dấu nháy đơn `'` trong tên.\n",
    "\n",
    "*Gợi ý*: dùng `.str.find()`. "
   ]
  },
  {
   "cell_type": "code",
   "execution_count": null,
   "metadata": {
    "id": "jSPWNjH1tyo2"
   },
   "outputs": [],
   "source": []
  },
  {
   "cell_type": "markdown",
   "metadata": {
    "id": "KXO7F6owtLNJ"
   },
   "source": [
    "**Câu 10**: In ra những tướng không có từ `'the'` trong danh hiệu."
   ]
  },
  {
   "cell_type": "code",
   "execution_count": null,
   "metadata": {
    "id": "DSQUkc8ttUEG"
   },
   "outputs": [],
   "source": []
  },
  {
   "cell_type": "markdown",
   "metadata": {
    "id": "GzEDPo58tXJm"
   },
   "source": [
    "**Câu 11**: Lấy ra những tướng có cùng phân loại chính với **Yasuo**."
   ]
  },
  {
   "cell_type": "code",
   "execution_count": null,
   "metadata": {
    "id": "K6p40DxItlHA"
   },
   "outputs": [],
   "source": []
  },
  {
   "cell_type": "markdown",
   "metadata": {
    "id": "92t_adSHtoko"
   },
   "source": [
    "**Câu 12**: Lấy ra tướng `'Assassin'` mới nhất được ra mắt."
   ]
  },
  {
   "cell_type": "code",
   "execution_count": null,
   "metadata": {
    "id": "p_iDVjg_uJSh"
   },
   "outputs": [],
   "source": []
  },
  {
   "cell_type": "markdown",
   "metadata": {
    "id": "ts_D4MO_uLM_"
   },
   "source": [
    "**Câu 13**: Có bao nhiêu phân loại chính?\n",
    "\n",
    "*Gợi ý*: dùng phương thức `.nunique()`."
   ]
  },
  {
   "cell_type": "code",
   "execution_count": null,
   "metadata": {
    "id": "fvm5ACazumxa"
   },
   "outputs": [],
   "source": []
  },
  {
   "cell_type": "markdown",
   "metadata": {
    "id": "w8vPA98Wunr2"
   },
   "source": [
    "**Câu 14**: Có bao nhiêu tướng có phân loại phụ?\n",
    "\n",
    "*Gợi ý*: dùng phương thức `.count()`"
   ]
  },
  {
   "cell_type": "code",
   "execution_count": null,
   "metadata": {
    "id": "0hkB6USruuI-"
   },
   "outputs": [],
   "source": []
  },
  {
   "cell_type": "markdown",
   "metadata": {
    "id": "1KeKqbYIvSLo"
   },
   "source": [
    "**Câu 15**: Sắp xếp `data` theo `base_attack` tăng dần."
   ]
  },
  {
   "cell_type": "code",
   "execution_count": null,
   "metadata": {
    "id": "gKHNEf4zw738"
   },
   "outputs": [],
   "source": []
  },
  {
   "cell_type": "markdown",
   "metadata": {
    "id": "qVAsZk3gw7cG"
   },
   "source": [
    "**Câu 16**: In ra những tướng có `base_health` lớn hơn 600."
   ]
  },
  {
   "cell_type": "code",
   "execution_count": null,
   "metadata": {
    "id": "r_sxO5PlvQQg"
   },
   "outputs": [],
   "source": []
  },
  {
   "cell_type": "markdown",
   "metadata": {
    "id": "YwADU43VvcN3"
   },
   "source": [
    "**Câu 17**: In ra tướng có `base_health` lớn nhất của phân lớp chính `'Juggernaut'`."
   ]
  },
  {
   "cell_type": "code",
   "execution_count": null,
   "metadata": {
    "id": "3GkpvZSnvbXs"
   },
   "outputs": [],
   "source": []
  },
  {
   "cell_type": "markdown",
   "metadata": {
    "id": "hlAqJwpJv4Ju"
   },
   "source": [
    "**Câu 18**: In ra tướng có `base_attack` thấp nhất của phân lớp chính `'Marksman'`."
   ]
  },
  {
   "cell_type": "code",
   "execution_count": null,
   "metadata": {
    "id": "vVivRNTtwRqB"
   },
   "outputs": [],
   "source": []
  },
  {
   "cell_type": "markdown",
   "metadata": {
    "id": "jqmQKle_wRQm"
   },
   "source": [
    "**Câu 19**: In ra `base_attack` và `base_health` trung bình của các tướng thuộc phân lớp chính `'Skirmisher'`."
   ]
  },
  {
   "cell_type": "code",
   "execution_count": null,
   "metadata": {
    "id": "MTrjxfQGwrYd"
   },
   "outputs": [],
   "source": []
  },
  {
   "cell_type": "markdown",
   "metadata": {
    "id": "KUHKF8PVu4g-"
   },
   "source": [
    "**Câu 20**: Đổi kiểu dữ liệu cột `primary` và `secondary` sang kiểu `'category'`.\n",
    "\n",
    "*Gợi ý*: dùng `.astype('category')` và `.assign()`."
   ]
  },
  {
   "cell_type": "code",
   "execution_count": null,
   "metadata": {
    "id": "ZIwhGD2NxJh4"
   },
   "outputs": [],
   "source": []
  }
 ],
 "metadata": {
  "colab": {
   "name": "lol_champions",
   "provenance": []
  },
  "kernelspec": {
   "display_name": "Python 3",
   "language": "python",
   "name": "python3"
  },
  "language_info": {
   "codemirror_mode": {
    "name": "ipython",
    "version": 3
   },
   "file_extension": ".py",
   "mimetype": "text/x-python",
   "name": "python",
   "nbconvert_exporter": "python",
   "pygments_lexer": "ipython3",
   "version": "3.7.6"
  }
 },
 "nbformat": 4,
 "nbformat_minor": 1
}
