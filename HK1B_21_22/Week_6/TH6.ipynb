{
 "cells": [
  {
   "cell_type": "markdown",
   "metadata": {},
   "source": [
    "## Thời gian làm bài: 150 phút\n",
    "\n",
    "## Mỗi câu 1 điểm"
   ]
  },
  {
   "cell_type": "markdown",
   "metadata": {},
   "source": [
    "Dữ liệu bài này được lấy từ https://www.kaggle.com/rtatman/animal-bites\n",
    "\n",
    "Thông tin các cột:\n",
    "- bite_date: Ngày nạn nhân bị cắn\n",
    "- SpeciesIDDesc: Loài của con vật gây vết cắn (ví dụ chó, mèo, ...)\n",
    "- BreedIDDesc: Giống nếu có (ví dụ giống PIT BULL của loài chó)\n",
    "- GenderIDDesc: Giới tính của con vật\n",
    "- color: Màu sắc con vật\n",
    "- vaccination_yrs: Số năm kể từ lần cuối con vật được tiêm ngừa\n",
    "- vaccination_date: Lần cuối con vật được tiêm ngừa\n",
    "- victim_zip: Mã zipcode của nạn nhân\n",
    "- AdvIssuedYNDesc: Nạn nhân có nhận được lời khuyên từ bác sĩ\n",
    "- WhereBittenIDDesc: Vị trí bị cắn\n",
    "- quarantine_date: Ngày con vật bị nhốt lại nếu có\n",
    "- DispositionIDDesc: Hành động của nhà chức trách với con vật\n",
    "- head_sent_date: Ngày con vật được đưa đến phòng nghiên cứu để kiểm tra bệnh dại nếu có\n",
    "- release_date: Ngày con vật được thả ra nếu có\n",
    "- ResultsIDDesc: Kết quả kiểm tra bệnh dại nếu có"
   ]
  },
  {
   "cell_type": "markdown",
   "metadata": {},
   "source": [
    "*Câu 1*\n",
    "\n",
    "a) Đọc file Health_animalBites.csv và lưu vào biến `bites`.\n",
    "\n",
    "b) Thực hiện các chuyển đổi dữ liệu cần thiết. Để xử lý lỗi, tìm hiểu tham số errors. Đặt lại tham số errors thành chuỗi ký tự thích hợp để chuyển các giá trị lỗi về NaT. https://pandas.pydata.org/docs/reference/api/pandas.to_datetime.html"
   ]
  },
  {
   "cell_type": "code",
   "execution_count": null,
   "metadata": {},
   "outputs": [],
   "source": [
    "# Import libraries"
   ]
  },
  {
   "cell_type": "code",
   "execution_count": null,
   "metadata": {},
   "outputs": [],
   "source": []
  },
  {
   "cell_type": "code",
   "execution_count": null,
   "metadata": {},
   "outputs": [],
   "source": []
  },
  {
   "cell_type": "markdown",
   "metadata": {},
   "source": [
    "*Câu 2*\n",
    "\n",
    "a) Lọc ra các dòng từ DataFrame `bites` không có giá trị NaN ở các cột SpeciesIDDesc và BreedIDDesc và lưu vào biến mới là `species`.\n",
    "\n",
    "b) Trong DataFrame `species` có những loài nào? Mỗi loài có bao nhiêu giống?"
   ]
  },
  {
   "cell_type": "code",
   "execution_count": null,
   "metadata": {},
   "outputs": [],
   "source": []
  },
  {
   "cell_type": "code",
   "execution_count": null,
   "metadata": {},
   "outputs": [],
   "source": []
  },
  {
   "cell_type": "markdown",
   "metadata": {},
   "source": [
    "*Câu 3*\n",
    "\n",
    "a) Trong DataFrame `species`, giống chó nào là phổ biến nhất?\n",
    "\n",
    "b) Trong những con chó có màu đen, giống chó nào là phổ biến nhất?"
   ]
  },
  {
   "cell_type": "code",
   "execution_count": null,
   "metadata": {},
   "outputs": [],
   "source": []
  },
  {
   "cell_type": "code",
   "execution_count": null,
   "metadata": {},
   "outputs": [],
   "source": []
  },
  {
   "cell_type": "markdown",
   "metadata": {},
   "source": [
    "*Câu 4*\n",
    "\n",
    "a) Trở lại với DataFrame `bites`, trong năm 2015 có bao nhiêu vụ cắn người đã được ghi nhận?\n",
    "\n",
    "b) Trong số các vụ cắn này, in thông tin những vụ __không__ được xác nhận là gây ra bởi chó hoặc mèo."
   ]
  },
  {
   "cell_type": "code",
   "execution_count": null,
   "metadata": {},
   "outputs": [],
   "source": []
  },
  {
   "cell_type": "code",
   "execution_count": null,
   "metadata": {},
   "outputs": [],
   "source": []
  },
  {
   "cell_type": "markdown",
   "metadata": {},
   "source": [
    "*Câu 5*\n",
    "\n",
    "a) Liệt kê các vị trí cắn trong data, không tính giá trị NaN và UNKNOWN.\n",
    "\n",
    "b) Loài vật nào __không__ được ghi nhận đã cắn vào đầu nạn nhân? \n",
    "\n",
    "Gợi ý: \n",
    "\n",
    "Cách 1: Dùng `~` để đảo giá trị True False và hàm `isin()`.\n",
    "\n",
    "Cách 2: Dùng `set`. Set trong Python có thể trừ nhau để lọc các giá trị khác biệt."
   ]
  },
  {
   "cell_type": "code",
   "execution_count": null,
   "metadata": {},
   "outputs": [],
   "source": []
  },
  {
   "cell_type": "code",
   "execution_count": null,
   "metadata": {},
   "outputs": [],
   "source": []
  },
  {
   "cell_type": "markdown",
   "metadata": {},
   "source": [
    "*Câu 6*\n",
    "\n",
    "a) Trong dữ liệu, có bao nhiêu con vật âm tính với bệnh dại (NEGATIVE) đã bị giết (KILLED) hoặc chết (DIED)? Gợi ý: Sử dụng `&` và `|`.\n",
    "\n",
    "b) Trong khoảng thời gian từ 2010 đến 2015 chó chiếm bao nhiêu phần trăm số vụ cắn người trong dữ liệu?"
   ]
  },
  {
   "cell_type": "code",
   "execution_count": null,
   "metadata": {},
   "outputs": [],
   "source": []
  },
  {
   "cell_type": "code",
   "execution_count": null,
   "metadata": {},
   "outputs": [],
   "source": []
  },
  {
   "cell_type": "markdown",
   "metadata": {},
   "source": [
    "*Câu 7*\n",
    "\n",
    "a) Tính số năm tiêm ngừa trung bình của các con vật (không tính các dòng có giá trị `NaN` tại cột này).\n",
    "\n",
    "b) Trong năm 2017 có bao nhiêu vụ tấn công trong đó con vật tấn công là chó `BOXER`?"
   ]
  },
  {
   "cell_type": "code",
   "execution_count": null,
   "metadata": {},
   "outputs": [],
   "source": []
  },
  {
   "cell_type": "code",
   "execution_count": null,
   "metadata": {},
   "outputs": [],
   "source": []
  },
  {
   "cell_type": "markdown",
   "metadata": {},
   "source": [
    "*Câu 8*\n",
    "\n",
    "Trong các năm từ 2010 đến 2016, __giống__ nào của __loài__ nào đã gây ra nhiều vụ cắn nhất? Không tính các dòng có giá trị `NaN` hoặc `UNKNOWN` tại 2 cột này. Gợi ý: Nên chia thành nhiều bước."
   ]
  },
  {
   "cell_type": "code",
   "execution_count": null,
   "metadata": {},
   "outputs": [],
   "source": []
  },
  {
   "cell_type": "markdown",
   "metadata": {},
   "source": [
    "*Câu 9*\n",
    "\n",
    "a) Có bao nhiêu con vật đã được ghi nhận ngày được đưa đến phòng nghiên cứu?\n",
    "\n",
    "b) Trong số các con vật này thì chó chiếm bao nhiêu phần trăm?"
   ]
  },
  {
   "cell_type": "code",
   "execution_count": null,
   "metadata": {},
   "outputs": [],
   "source": []
  },
  {
   "cell_type": "code",
   "execution_count": null,
   "metadata": {},
   "outputs": [],
   "source": []
  },
  {
   "cell_type": "markdown",
   "metadata": {},
   "source": [
    "*Câu 10*\n",
    "\n",
    "a) Có bao nhiêu con chó đã được ghi nhận ngày thả?\n",
    "\n",
    "b) Trong số đó có bao nhiêu con được ghi nhận đã chích ngừa ít nhất 1 năm?"
   ]
  },
  {
   "cell_type": "code",
   "execution_count": null,
   "metadata": {},
   "outputs": [],
   "source": []
  },
  {
   "cell_type": "code",
   "execution_count": null,
   "metadata": {},
   "outputs": [],
   "source": []
  }
 ],
 "metadata": {
  "kernelspec": {
   "display_name": "Python 3",
   "language": "python",
   "name": "python3"
  },
  "language_info": {
   "codemirror_mode": {
    "name": "ipython",
    "version": 3
   },
   "file_extension": ".py",
   "mimetype": "text/x-python",
   "name": "python",
   "nbconvert_exporter": "python",
   "pygments_lexer": "ipython3",
   "version": "3.7.6"
  }
 },
 "nbformat": 4,
 "nbformat_minor": 4
}
