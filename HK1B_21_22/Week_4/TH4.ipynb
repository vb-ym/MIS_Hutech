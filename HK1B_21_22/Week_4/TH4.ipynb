{
  "nbformat": 4,
  "nbformat_minor": 0,
  "metadata": {
    "colab": {
      "name": "anime",
      "provenance": [],
      "collapsed_sections": []
    },
    "kernelspec": {
      "name": "python3",
      "display_name": "Python 3"
    }
  },
  "cells": [
    {
      "cell_type": "markdown",
      "metadata": {
        "id": "PPHNGnzHHDXG"
      },
      "source": [
        "# Dữ liệu\r\n",
        "Dữ liệu cho bài thực hành này được tổng hợp từ [MyAnimeList](https://myanimelist.net/) được lưu trong file [anime_info.csv](https://raw.githubusercontent.com/Levytan/mis_hutech/master/data/anime_info.csv) và bao gồm các cột:\r\n",
        "* `anime_id`: mã số của anime trên [MyAnimeList](https://myanimelist.net/).\r\n",
        "* `title` : tựa của anime.\r\n",
        "* `type` : hình thức phát hành (TV Series, Movie, OVA, ...).\r\n",
        "* `source` : nguyên tác của anime (Manga, Light Novel, Game, ...).\r\n",
        "* `episodes` : số tập.\r\n",
        "* `duration_min` : thời lượng mỗi tập (tính bằng phút).\r\n",
        "* `score` : điểm của anime trên [MyAnimeList](https://myanimelist.net/), tổng hợp từ đánh giá có người dùng.\r\n",
        "* `studio` : hãng sản xuất.\r\n",
        "* `genre` : thể loại phim.\r\n",
        "* `start` : ngày bắt đầu phát hành.\r\n",
        "* `finish` : ngày kết thúc phát hành."
      ]
    },
    {
      "cell_type": "markdown",
      "metadata": {
        "id": "47LkimmwN3eg"
      },
      "source": [
        "# Bài tập"
      ]
    },
    {
      "cell_type": "markdown",
      "metadata": {
        "id": "zwBzHoF5N5QQ"
      },
      "source": [
        "**Câu 1**: Đọc dữ liệu từ file csv và lưu dưới tên `anime_data`."
      ]
    },
    {
      "cell_type": "code",
      "metadata": {
        "id": "ut8dRn9fG6Rl"
      },
      "source": [
        ""
      ],
      "execution_count": null,
      "outputs": []
    },
    {
      "cell_type": "markdown",
      "metadata": {
        "id": "G-BBzoqzPHpz"
      },
      "source": [
        "**Câu 2**: Thực hiện việc chuyển đổi cần thiết."
      ]
    },
    {
      "cell_type": "code",
      "metadata": {
        "id": "LZSU81N0PMrG"
      },
      "source": [
        ""
      ],
      "execution_count": null,
      "outputs": []
    },
    {
      "cell_type": "markdown",
      "metadata": {
        "id": "QF4v9Sw-PdjQ"
      },
      "source": [
        "**Câu 3**: Xóa những dòng có ngày bắt đầu hoặc kết thúc là `NaT`."
      ]
    },
    {
      "cell_type": "code",
      "metadata": {
        "id": "0fSzraqzPmLL"
      },
      "source": [
        ""
      ],
      "execution_count": null,
      "outputs": []
    },
    {
      "cell_type": "markdown",
      "metadata": {
        "id": "iFv-SUYyPmpb"
      },
      "source": [
        "**Câu 4**: Xóa những dòng có số tập là 0."
      ]
    },
    {
      "cell_type": "code",
      "metadata": {
        "id": "qwCEjjuxPszX"
      },
      "source": [
        ""
      ],
      "execution_count": null,
      "outputs": []
    },
    {
      "cell_type": "markdown",
      "metadata": {
        "id": "j2Ccqcs7QROa"
      },
      "source": [
        "**Câu 5**: Xóa những dòng có thời lượng mỗi tập là 0."
      ]
    },
    {
      "cell_type": "code",
      "metadata": {
        "id": "BFGzgdn0QZSD"
      },
      "source": [
        ""
      ],
      "execution_count": null,
      "outputs": []
    },
    {
      "cell_type": "markdown",
      "metadata": {
        "id": "oQJ-OBh7QdC9"
      },
      "source": [
        "**Câu 6**: In ra số lượng anime còn lại sau khi thực hiện câu 3 - 5."
      ]
    },
    {
      "cell_type": "code",
      "metadata": {
        "id": "b3j3ZU8DQpGn"
      },
      "source": [
        ""
      ],
      "execution_count": null,
      "outputs": []
    },
    {
      "cell_type": "markdown",
      "metadata": {
        "id": "P8KqLBv1Qp5X"
      },
      "source": [
        "**Câu 7**: Thống kê số lượng anime phát hành mỗi năm (tính theo ngày bắt đầu phát hành). Năm nào có nhiều anime phát hành nhất trong bộ dữ liệu."
      ]
    },
    {
      "cell_type": "code",
      "metadata": {
        "id": "SfScTZfxTLri"
      },
      "source": [
        ""
      ],
      "execution_count": null,
      "outputs": []
    },
    {
      "cell_type": "markdown",
      "metadata": {
        "id": "02He-T16Tsru"
      },
      "source": [
        "**Câu 8**: Thêm vào dữ liệu cột `decade` là thập kỷ phát hành của anime. Thống kê số lượng anime phát hành theo thập kỷ."
      ]
    },
    {
      "cell_type": "code",
      "metadata": {
        "id": "VEZqiltDUBpV"
      },
      "source": [
        ""
      ],
      "execution_count": null,
      "outputs": []
    },
    {
      "cell_type": "markdown",
      "metadata": {
        "id": "LF6PokWKUJpx"
      },
      "source": [
        "**Câu 9**: Thêm vào dữ liệu cột `season` để chỉ mùa phát sóng (tính theo ngày bắt đầu phát hành) của anime với:\r\n",
        "\r\n",
        "|Ngày phát hành|Season|\r\n",
        "|---|---|\r\n",
        "|Từ 01.01 đến 31.03|Winter-Spring|\r\n",
        "|Từ 01.04 đến 30.06|Spring|\r\n",
        "|Từ 01.07 đến 30.09|Summer|\r\n",
        "|Từ 01.10 đến 31.12|Fall|\r\n",
        "\r\n",
        "In ra `season` có nhiều bộ anime phát hành nhất.\r\n"
      ]
    },
    {
      "cell_type": "code",
      "metadata": {
        "id": "7hHeFhQQVMpp"
      },
      "source": [
        ""
      ],
      "execution_count": null,
      "outputs": []
    },
    {
      "cell_type": "markdown",
      "metadata": {
        "id": "mOAFnxDTVSuN"
      },
      "source": [
        "**Câu 10**: Lấy ra những anime có `type` là 'TV' và dùng dữ liệu đó để trả lời các câu hỏi sau:\r\n",
        "1. Có bao nhiêu anime trong bộ dữ liệu đó?\r\n",
        "2. Anime nào có nhiều tập nhất?\r\n",
        "3. Có tổng cộng bao nhiêu tập phim?\r\n",
        "4. Tổng thời gian để xem hết các anime này? (tính theo giờ, theo ngày)\r\n",
        "5. Thời gian trung bình 1 tập.\r\n",
        "6. Tính score trung bình từng thập kỷ.\r\n",
        "7. Tính score trung bình theo từng `seanson` và `source`.\r\n",
        "8. Tính score trung bình theo từng studio.\r\n",
        "9. Tính ma trận hệ số tương quan giữa các cột `score`, `duration_min` và `episodes`.\r\n",
        "10. Thêm cột `aired_duration` là số ngày phát hành. *Gợi ý*: `(end - start) / pd.Timedelta('1 days')`.\r\n",
        "11. In ra anime có thời gian phát hành lâu nhất.\r\n",
        "12. In ra hệ số tương quan giữa `score` và `aired_duration`."
      ]
    },
    {
      "cell_type": "code",
      "metadata": {
        "id": "ODat6qOoWf2q"
      },
      "source": [
        ""
      ],
      "execution_count": null,
      "outputs": []
    },
    {
      "cell_type": "markdown",
      "metadata": {
        "id": "RK6436Bfaior"
      },
      "source": [
        "**Câu 11**: Thực hiện các yêu cầu sau:\r\n",
        "1. Lấy ra những anime có `type` là 'Movie' và đặt tên là `movie`.\r\n",
        "2. Xóa các cột `type`, `episodes`, `duration_min`, `start` và `finish` khỏi `movie`."
      ]
    },
    {
      "cell_type": "code",
      "metadata": {
        "id": "K4qHQLNSa5pX"
      },
      "source": [
        ""
      ],
      "execution_count": null,
      "outputs": []
    },
    {
      "cell_type": "markdown",
      "metadata": {
        "id": "PasDsfVKbfrs"
      },
      "source": [
        "Như có thể thấy, `genre` của những anime là một danh sách nhiều thể loại khác nhau. Điều này gây khó khăn cho việc tổng hợp thông tin theo từng `genre`. Vì vậy, phải phân rã cột `genre` sao cho mỗi dòng chỉ chứa 1 `genre` như minh họa:\r\n",
        "![Explode](https://www.w3resource.com/w3r_images/pandas-dataframe-explode-1.png)"
      ]
    },
    {
      "cell_type": "code",
      "metadata": {
        "id": "qZm11B8OcWUi"
      },
      "source": [
        "# thực hiện đoạn code sau đây để phân rã cột `genre`\r\n",
        "# chuyển đổi cột `genre` từ str sang list\r\n",
        "movie = movie.assign(genre = movie.genre.str.split(', '))\r\n",
        "# phân rã cột genre\r\n",
        "movie = movie.explode('genre')"
      ],
      "execution_count": null,
      "outputs": []
    },
    {
      "cell_type": "markdown",
      "metadata": {
        "id": "S8qYWGMPdDOw"
      },
      "source": [
        "**Câu 12**: Thực hiện các yêu cầu sau:\r\n",
        "1. Thống kê số lượng `genre`.\r\n",
        "2. In ra điểm trung bình và số lượng anime từng `genre`.\r\n",
        "3. Thống kê điểm trung bình theo `studio` và `genre`.\r\n"
      ]
    },
    {
      "cell_type": "code",
      "metadata": {
        "id": "8PTiVuH7ekKk"
      },
      "source": [
        ""
      ],
      "execution_count": null,
      "outputs": []
    }
  ]
}