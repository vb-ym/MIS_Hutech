{
 "cells": [
  {
   "cell_type": "markdown",
   "metadata": {
    "id": "jbeGBtrzcGMc"
   },
   "source": [
    "# Giới thiệu\n",
    "\n",
    "Trong bài thực hành, chúng ta cùng phân tích về thành tích đánh xếp hạng của Faker (một người chơi Liên Minh Huyền Thoại nổi tiếng thế giới) trong khoảng thời gian 10.11.2019 - 18.11.2019.\n"
   ]
  },
  {
   "cell_type": "markdown",
   "metadata": {
    "id": "Sp_KU4KQeIdU"
   },
   "source": [
    "# Dữ liệu :\n",
    "Dữ liệu của bạn được thu thập từ trang [op.gg](https://www.op.gg/summoner/userName=Hide+on+bush) và bao gồm các cột sau :\n",
    "- `champion` : tướng mà Faker đã chơi.\n",
    "- `status` : kết quả trận đấu (`'Victory'` là chiến thắng, `'Defeat'` là thất bại). \n",
    "- `date` : ngày chơi.\n",
    "- `kill` : số lần hạ gục.\n",
    "- `death` : số lần bị hạ gục.\n",
    "- `assist` : số lần hỗ trợ hạ gục.\n",
    "- `cs` : số lính tiêu diệt trong trận.\n",
    "- `duration` : thời gian trận đấu, được ghi dưới dạng `mm:ss`.\n",
    "\n",
    "Dữ liệu được lưu trữ trong file [`faker.csv`](https://raw.githubusercontent.com/Levytan/mis_hutech/master/data/faker.csv)."
   ]
  },
  {
   "cell_type": "markdown",
   "metadata": {
    "id": "qECWh9TWgaXA"
   },
   "source": [
    "# Bài tập"
   ]
  },
  {
   "cell_type": "markdown",
   "metadata": {
    "id": "eqOsBxtWgc09"
   },
   "source": [
    "**Câu 1** : Đọc dữ liệu vào `DataFrame`."
   ]
  },
  {
   "cell_type": "code",
   "execution_count": null,
   "metadata": {},
   "outputs": [],
   "source": []
  },
  {
   "cell_type": "markdown",
   "metadata": {
    "id": "BhxNqSCUgvzO"
   },
   "source": [
    "**Câu 2** : Chuyển đổi kiểu dữ liệu cho cột `date`."
   ]
  },
  {
   "cell_type": "code",
   "execution_count": null,
   "metadata": {
    "id": "LNJOPW7Xg-Jj"
   },
   "outputs": [],
   "source": []
  },
  {
   "cell_type": "markdown",
   "metadata": {
    "id": "wFxsFTakg_d_"
   },
   "source": [
    "**Câu 3** : Quy đổi dữ liệu của cột `duration` về đơn vị phút (tức là `18:30` sẽ thành `18.5`).\n",
    "\n",
    "---\n",
    "_Gợi ý_ : dùng `.str.split(':')` để tách dữ liệu trong cột `duration`, hoặc dùng `.apply()`."
   ]
  },
  {
   "cell_type": "code",
   "execution_count": null,
   "metadata": {
    "id": "mhmWRD94hqQt"
   },
   "outputs": [],
   "source": []
  },
  {
   "cell_type": "markdown",
   "metadata": {
    "id": "UOu5lKWvsP72"
   },
   "source": [
    "**Câu 4** : Tính thời gian trung bình một trận."
   ]
  },
  {
   "cell_type": "code",
   "execution_count": null,
   "metadata": {
    "id": "qpwwlceksQUe"
   },
   "outputs": [],
   "source": []
  },
  {
   "cell_type": "markdown",
   "metadata": {
    "id": "Rd3CKFydiQCK"
   },
   "source": [
    "**Câu 4** : Trung bình mỗi ngày Faker đã chơi bao nhiêu trận?"
   ]
  },
  {
   "cell_type": "code",
   "execution_count": null,
   "metadata": {
    "id": "vcCFO5cfjSHK"
   },
   "outputs": [],
   "source": []
  },
  {
   "cell_type": "markdown",
   "metadata": {
    "id": "n0xZch_4jT6_"
   },
   "source": [
    "**Câu 5** : Faker đã chơi bao nhiêu vị tướng khác nhau, in ra những tướng đó."
   ]
  },
  {
   "cell_type": "code",
   "execution_count": null,
   "metadata": {
    "id": "pGG4xmPPjZe1"
   },
   "outputs": [],
   "source": []
  },
  {
   "cell_type": "markdown",
   "metadata": {
    "id": "Lnu9BKFxjehv"
   },
   "source": [
    "$KDA$ là một chỉ số thường thấy khi phân tích về một tuyển thủ nào đó, $KDA$ được tính như sau.\n",
    "\n",
    "Gọi $K$ là số lần hạ gục, $D$ là số lần bị hạ gục và $A$ là số lần hỗ trợ hạ gục thì :\n",
    "\n",
    "$KDA = \n",
    "\\left\\{\\begin{matrix}\n",
    "K + A &\\text{khi} &D = 0 \\\\ \n",
    "(K + A)/D &\\text{khi} &D > 0\n",
    "\\end{matrix}\\right.\n",
    "$\n",
    "\n",
    "Trong trường hợp $D = 0$, người ta gọi là `Perfect KDA`. "
   ]
  },
  {
   "cell_type": "markdown",
   "metadata": {
    "id": "nLzPzfFsnT-h"
   },
   "source": [
    "**Câu 6** : In ra những trận đấu Faker có `Perfect KDA`."
   ]
  },
  {
   "cell_type": "code",
   "execution_count": null,
   "metadata": {
    "id": "nf7nD7C5msnX"
   },
   "outputs": [],
   "source": []
  },
  {
   "cell_type": "markdown",
   "metadata": {
    "id": "Ql6zbsinndua"
   },
   "source": [
    "**Câu 7** : Trong những trận không đạt được `Perfect KDA`, in ra 5 trận có $KDA$ cao nhất."
   ]
  },
  {
   "cell_type": "code",
   "execution_count": null,
   "metadata": {
    "id": "GK77IiUMrEQe"
   },
   "outputs": [],
   "source": []
  },
  {
   "cell_type": "markdown",
   "metadata": {
    "id": "HSc4iSxlrnpy"
   },
   "source": [
    "**Câu 8** : Tính số lính tiêu diệt trung bình mỗi phút trong một trận đấu và để trong cột `cs_per_min`."
   ]
  },
  {
   "cell_type": "code",
   "execution_count": null,
   "metadata": {
    "id": "XxhBLZnzr1XJ"
   },
   "outputs": [],
   "source": []
  },
  {
   "cell_type": "markdown",
   "metadata": {
    "id": "l4nHYNKRr5am"
   },
   "source": [
    "**Câu 9** : Tính thời gian thi đấu trung bình của các trận được `Perfect KDA` và các trận **không** được `Perfect KDA`."
   ]
  },
  {
   "cell_type": "code",
   "execution_count": null,
   "metadata": {
    "id": "Y4IsFnfPsLCN"
   },
   "outputs": [],
   "source": []
  },
  {
   "cell_type": "markdown",
   "metadata": {
    "id": "N7XlydLps3l_"
   },
   "source": [
    "**Câu 10** : Tính tỷ lệ thắng của Faker."
   ]
  },
  {
   "cell_type": "code",
   "execution_count": null,
   "metadata": {
    "id": "S10RP_DZs8pP"
   },
   "outputs": [],
   "source": []
  }
 ],
 "metadata": {
  "colab": {
   "collapsed_sections": [],
   "name": "faker_rank_games",
   "provenance": []
  },
  "kernelspec": {
   "display_name": "Python 3",
   "language": "python",
   "name": "python3"
  },
  "language_info": {
   "codemirror_mode": {
    "name": "ipython",
    "version": 3
   },
   "file_extension": ".py",
   "mimetype": "text/x-python",
   "name": "python",
   "nbconvert_exporter": "python",
   "pygments_lexer": "ipython3",
   "version": "3.7.6"
  }
 },
 "nbformat": 4,
 "nbformat_minor": 1
}
