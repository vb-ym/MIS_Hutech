{
 "cells": [
  {
   "cell_type": "markdown",
   "metadata": {
    "id": "PJd2HaNDzDn5"
   },
   "source": [
    "# Giới thiệu\n",
    "Trong bài này, chúng ta sẽ thực hiện một số phân tích trên dữ liệu thành tích của Đội tuyển Quốc gia Việt Nam từ năm 2010 - 2019 (chỉ tính các trận đấu chính thức trong khuôn khổ của FIFA)."
   ]
  },
  {
   "cell_type": "markdown",
   "metadata": {
    "id": "SOFd-NeRzcfX"
   },
   "source": [
    "# Dữ liệu\n",
    "Dữ liệu của bài này được lấy từ [trang wiki](https://en.wikipedia.org/wiki/Vietnam_national_football_team_results) và được lưu trong file [`vietnam_football_results.csv`](https://raw.githubusercontent.com/Levytan/mis_hutech/master/data/vietnam_football_results.csv).\n",
    "\n",
    "Dữ liệu bao gồm các cột :\n",
    "- `date` : ngày diễn ra trận đấu.\n",
    "- `opponent` : đối thủ của đội tuyển Việt Nam.\n",
    "- `score` : tỷ số trận đấu (chỉ tính trong 90' thi đấu chính thức). Số bàn thắng của đội tuyển Việt Nam luôn viết trước.\n",
    "- `venue` : địa điểm tổ chức trân đấu.\n",
    "- `venue_type` : vị thế của Đội tuyển Việt Nam\n",
    "    - `H` : đá ở sân nhà.\n",
    "    - `A` : đá ở sân khách.\n",
    "    - `N` : đá ở sân trung lập.\n",
    "- `competition` : giải đấu mà Đội tuyển Việt Nam tham gia."
   ]
  },
  {
   "cell_type": "markdown",
   "metadata": {
    "id": "E0VeYIKm1j0w"
   },
   "source": [
    "# Bài tập"
   ]
  },
  {
   "cell_type": "markdown",
   "metadata": {
    "id": "iTQJ33kC1mry"
   },
   "source": [
    "**Câu 1** : Đọc dữ liệu vào `DataFrame`."
   ]
  },
  {
   "cell_type": "code",
   "execution_count": null,
   "metadata": {
    "id": "atfWBNCpy4YO"
   },
   "outputs": [],
   "source": []
  },
  {
   "cell_type": "markdown",
   "metadata": {
    "id": "o1lN-U1o1ymq"
   },
   "source": [
    "**Câu 2** : Kiểm tra kiểu dữ liệu các cột và thực hiện những chuyển đổi cần thiết."
   ]
  },
  {
   "cell_type": "code",
   "execution_count": null,
   "metadata": {
    "id": "rO0WKvMo2DOs"
   },
   "outputs": [],
   "source": []
  },
  {
   "cell_type": "markdown",
   "metadata": {
    "id": "qNFzFnM02D_0"
   },
   "source": [
    "**Câu 3** : Đội tuyển Việt Nam đã thi đấu bao nhiêu trận trong giai đoạn 2010 - 2019, trong đó có bao nhiêu trận đá ở sân nhà, sân khách và sân trung lập."
   ]
  },
  {
   "cell_type": "code",
   "execution_count": null,
   "metadata": {
    "id": "QfzoKk_52nIR"
   },
   "outputs": [],
   "source": []
  },
  {
   "cell_type": "markdown",
   "metadata": {
    "id": "4eMA7ONKbzfk"
   },
   "source": [
    "**Câu 4** : Trong các trận ở sân nhà, Đội tyển Việt Nam thi đấu ở bao nhiêu địa điểm khác nhau, in ra những địa điểm đó."
   ]
  },
  {
   "cell_type": "code",
   "execution_count": null,
   "metadata": {
    "id": "K8tBI4B0cFi2"
   },
   "outputs": [],
   "source": []
  },
  {
   "cell_type": "markdown",
   "metadata": {
    "id": "ldILiLfu2pK5"
   },
   "source": [
    "**Câu 5**: Đội tuyển Việt Nam đã thi đấu trung bình bao nhiêu trận mỗi năm?"
   ]
  },
  {
   "cell_type": "code",
   "execution_count": null,
   "metadata": {
    "id": "vTD3I19329w8"
   },
   "outputs": [],
   "source": []
  },
  {
   "cell_type": "markdown",
   "metadata": {
    "id": "qq7gFZWi2-ug"
   },
   "source": [
    "**Câu 6** : In ra số trận đội tuyển Việt Nam đá vào năm 2015."
   ]
  },
  {
   "cell_type": "code",
   "execution_count": null,
   "metadata": {
    "id": "TEZVo3m13JDY"
   },
   "outputs": [],
   "source": []
  },
  {
   "cell_type": "markdown",
   "metadata": {
    "id": "PAY9ZZ9VWhQ0"
   },
   "source": [
    "**Câu 7** : Từ cột `score`, tạo ra hai cột mới lần lượt là :\n",
    "- `goal` : số bàn thắng Đội tuyển Việt Nam ghi được.\n",
    "- `conceded_goal` : số bàn bị thủng lưới của Đội tuyển Việt Nam.\n",
    "\n",
    "---\n",
    "_Gợi ý_ : dùng `.str.split('-')` để tách chuỗi từ `score`."
   ]
  },
  {
   "cell_type": "code",
   "execution_count": null,
   "metadata": {
    "id": "cz124Qj8XOU_"
   },
   "outputs": [],
   "source": []
  },
  {
   "cell_type": "markdown",
   "metadata": {
    "id": "G2R-61yoXToO"
   },
   "source": [
    "**Câu 8** : In ra những trận mà đội tuyển Việt Nam ghi được nhiều bàn thắng nhất?"
   ]
  },
  {
   "cell_type": "code",
   "execution_count": null,
   "metadata": {
    "id": "WFXKGcKYXd8F"
   },
   "outputs": [],
   "source": []
  },
  {
   "cell_type": "markdown",
   "metadata": {
    "id": "wY0dhqTvXfD7"
   },
   "source": [
    "**Câu 9** : Tính số bàn thắng trung bình của đội tuyển Việt Nam."
   ]
  },
  {
   "cell_type": "code",
   "execution_count": null,
   "metadata": {
    "id": "cMhtVsa_XuQo"
   },
   "outputs": [],
   "source": []
  },
  {
   "cell_type": "markdown",
   "metadata": {
    "id": "8WjverVxXvDj"
   },
   "source": [
    "**Câu 10** : Tính tỷ lệ thắng của Đội tuyển Việt Nam."
   ]
  },
  {
   "cell_type": "code",
   "execution_count": null,
   "metadata": {
    "id": "V-WCvzV0X2vY"
   },
   "outputs": [],
   "source": []
  },
  {
   "cell_type": "markdown",
   "metadata": {
    "id": "PYTaTwE_YBI-"
   },
   "source": [
    "**Câu 11** : Lấy ra các trận giao hữu trong khoảng thời gian trên. Biết rằng, các trận giao hữu được ghi là `'Friendly'` trong `competition`. "
   ]
  },
  {
   "cell_type": "code",
   "execution_count": null,
   "metadata": {
    "id": "wz5-w_lcZvnm"
   },
   "outputs": [],
   "source": []
  },
  {
   "cell_type": "markdown",
   "metadata": {
    "id": "WpJ0QexTbADj"
   },
   "source": [
    "**Câu 12** : Tính tỷ lệ thắng của Đội tuyển Việt Nam trong các trận giao hữu."
   ]
  },
  {
   "cell_type": "code",
   "execution_count": null,
   "metadata": {
    "id": "yYztAH2gbLOq"
   },
   "outputs": [],
   "source": []
  },
  {
   "cell_type": "markdown",
   "metadata": {
    "id": "fC74AQGGbY19"
   },
   "source": [
    "**Câu 13** : Số bàn thua trung bình trong các trận đấu **không phải** giao hữu."
   ]
  },
  {
   "cell_type": "code",
   "execution_count": null,
   "metadata": {
    "id": "cxwCmuHWbkrX"
   },
   "outputs": [],
   "source": []
  }
 ],
 "metadata": {
  "colab": {
   "collapsed_sections": [],
   "name": "vietnam_national_football_team_results",
   "provenance": []
  },
  "kernelspec": {
   "display_name": "Python 3",
   "language": "python",
   "name": "python3"
  },
  "language_info": {
   "codemirror_mode": {
    "name": "ipython",
    "version": 3
   },
   "file_extension": ".py",
   "mimetype": "text/x-python",
   "name": "python",
   "nbconvert_exporter": "python",
   "pygments_lexer": "ipython3",
   "version": "3.7.6"
  }
 },
 "nbformat": 4,
 "nbformat_minor": 1
}
