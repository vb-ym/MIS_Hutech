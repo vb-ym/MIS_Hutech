{
 "cells": [
  {
   "cell_type": "markdown",
   "metadata": {},
   "source": [
    "## Thời gian làm bài: 150 phút\n",
    "\n",
    "## Mỗi câu 1 điểm, chỉ cần làm đúng 10 câu là được 10 điểm\n",
    "\n",
    "## Nếu làm nhiều hơn 10 câu thì chỉ chấm điểm 10 câu đầu tiên, ví dụ làm các câu: 1, 2, 3, 5, 6, 7, 8, 9, 10, 11, 12 thì chỉ chấm các câu 1, 2, 3, 5, 6, 7, 8, 9, 10, 11"
   ]
  },
  {
   "cell_type": "markdown",
   "metadata": {},
   "source": [
    "*Câu 1*\n",
    "\n",
    "Đọc file `DigiDB_digimonlist.csv` và lưu vào biến digimons."
   ]
  },
  {
   "cell_type": "code",
   "execution_count": null,
   "metadata": {},
   "outputs": [],
   "source": []
  },
  {
   "cell_type": "markdown",
   "metadata": {},
   "source": [
    "*Câu 2*\n",
    "\n",
    "a) Có tổng cộng bao nhiêu `Digimon` trong bộ dữ liệu?\n",
    "\n",
    "b) Có tổng cộng bao nhiêu `Stage`?\n"
   ]
  },
  {
   "cell_type": "code",
   "execution_count": null,
   "metadata": {},
   "outputs": [],
   "source": []
  },
  {
   "cell_type": "code",
   "execution_count": null,
   "metadata": {},
   "outputs": [],
   "source": []
  },
  {
   "cell_type": "markdown",
   "metadata": {},
   "source": [
    "*Câu 3*\n",
    "\n",
    "`Digimon` nào có điểm tấn công `Lv50 Atk` cao nhất?"
   ]
  },
  {
   "cell_type": "code",
   "execution_count": null,
   "metadata": {},
   "outputs": [],
   "source": []
  },
  {
   "cell_type": "markdown",
   "metadata": {},
   "source": [
    "*Câu 4*\n",
    "\n",
    "a) Thêm cột mới tên là `AtkDef` là tổng của cột `Lv50 Atk` và `Lv50 Def`. In ra thông tin của Digimon có tổng điểm tấn công `Lv50 Atk` và điểm phòng thủ `Lv50 Def` cao nhất.\n",
    "\n",
    "b) Xóa cột `AtkDef`. "
   ]
  },
  {
   "cell_type": "code",
   "execution_count": null,
   "metadata": {},
   "outputs": [],
   "source": []
  },
  {
   "cell_type": "markdown",
   "metadata": {},
   "source": [
    "*Câu 5*\n",
    "\n",
    "Trong số các `Digimon` có Equip Slots là 2, `Digimon` nào có điểm tấn công `Lv50 Atk` thấp nhất?"
   ]
  },
  {
   "cell_type": "code",
   "execution_count": null,
   "metadata": {},
   "outputs": [],
   "source": []
  },
  {
   "cell_type": "markdown",
   "metadata": {},
   "source": [
    "*Câu 6*\n",
    "\n",
    "a) Các digimon có những loại `Stage` nào?\n",
    "\n",
    "b) Stage nào là phổ biến nhất? (có nhiều Digimon thuộc về stage đó nhất)"
   ]
  },
  {
   "cell_type": "code",
   "execution_count": null,
   "metadata": {},
   "outputs": [],
   "source": []
  },
  {
   "cell_type": "code",
   "execution_count": null,
   "metadata": {},
   "outputs": [],
   "source": []
  },
  {
   "cell_type": "markdown",
   "metadata": {},
   "source": [
    "*Câu 7*\n",
    "\n",
    "a) Thống kê số lượng `Digimon` của mỗi loại `Attribute`.\n",
    "\n",
    "b) Digimon thuộc loại `Attribute` nào có điểm tấn công `Lv50 Atk` trung bình lớn nhất?"
   ]
  },
  {
   "cell_type": "code",
   "execution_count": null,
   "metadata": {},
   "outputs": [],
   "source": []
  },
  {
   "cell_type": "code",
   "execution_count": null,
   "metadata": {},
   "outputs": [],
   "source": []
  },
  {
   "cell_type": "markdown",
   "metadata": {},
   "source": [
    "*Câu 8*\n",
    "\n",
    "Thống kê trung bình của lượng máu (cột HP) của các Digimon theo từng `Type` và `Attribute`"
   ]
  },
  {
   "cell_type": "code",
   "execution_count": null,
   "metadata": {},
   "outputs": [],
   "source": []
  },
  {
   "cell_type": "markdown",
   "metadata": {},
   "source": [
    "*Câu 9*\n",
    "\n",
    "Tính hệ số tương quan giữa cột `Memory` và `Equip Slots`"
   ]
  },
  {
   "cell_type": "code",
   "execution_count": null,
   "metadata": {},
   "outputs": [],
   "source": []
  },
  {
   "cell_type": "markdown",
   "metadata": {},
   "source": [
    "*Câu 10*\n",
    "\n",
    "In ra ma trận hệ số tương quan giữa `Lv50 Atk`, `Lv50 Def` và `Lv50 Spd`"
   ]
  },
  {
   "cell_type": "code",
   "execution_count": null,
   "metadata": {},
   "outputs": [],
   "source": []
  },
  {
   "cell_type": "markdown",
   "metadata": {},
   "source": [
    "*Câu 11*\n",
    "\n",
    "Thống kê số lượng `Digimon` và điểm tấn công trung bình `Lv50 Atk` của các Digimon theo từng `Attribute`"
   ]
  },
  {
   "cell_type": "code",
   "execution_count": null,
   "metadata": {},
   "outputs": [],
   "source": []
  },
  {
   "cell_type": "markdown",
   "metadata": {},
   "source": [
    "*Câu 12*\n",
    "\n",
    "In thông tin của các Digimon có tên kết thúc bằng \"DM\".\n",
    "\n",
    "Gợi ý: Sử dụng hàm .str.endswith()"
   ]
  },
  {
   "cell_type": "code",
   "execution_count": null,
   "metadata": {},
   "outputs": [],
   "source": []
  }
 ],
 "metadata": {
  "kernelspec": {
   "display_name": "Python 3",
   "language": "python",
   "name": "python3"
  },
  "language_info": {
   "codemirror_mode": {
    "name": "ipython",
    "version": 3
   },
   "file_extension": ".py",
   "mimetype": "text/x-python",
   "name": "python",
   "nbconvert_exporter": "python",
   "pygments_lexer": "ipython3",
   "version": "3.7.6"
  }
 },
 "nbformat": 4,
 "nbformat_minor": 4
}
